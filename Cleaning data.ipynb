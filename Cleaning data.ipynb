{
 "cells": [
  {
   "cell_type": "code",
   "execution_count": 1,
   "id": "d76d6a58",
   "metadata": {},
   "outputs": [
    {
     "name": "stdout",
     "output_type": "stream",
     "text": [
      "     PassengerId  Survived  Pclass  \\\n",
      "0            892         0       3   \n",
      "1            893         1       3   \n",
      "2            894         0       2   \n",
      "3            895         0       3   \n",
      "4            896         1       3   \n",
      "..           ...       ...     ...   \n",
      "413         1305         0       3   \n",
      "414         1306         1       1   \n",
      "415         1307         0       3   \n",
      "416         1308         0       3   \n",
      "417         1309         0       3   \n",
      "\n",
      "                                             Name     Sex   Age  SibSp  Parch  \\\n",
      "0                                Kelly, Mr. James    male  34.5      0      0   \n",
      "1                Wilkes, Mrs. James (Ellen Needs)  female  47.0      1      0   \n",
      "2                       Myles, Mr. Thomas Francis    male  62.0      0      0   \n",
      "3                                Wirz, Mr. Albert    male  27.0      0      0   \n",
      "4    Hirvonen, Mrs. Alexander (Helga E Lindqvist)  female  22.0      1      1   \n",
      "..                                            ...     ...   ...    ...    ...   \n",
      "413                            Spector, Mr. Woolf    male   NaN      0      0   \n",
      "414                  Oliva y Ocana, Dona. Fermina  female  39.0      0      0   \n",
      "415                  Saether, Mr. Simon Sivertsen    male  38.5      0      0   \n",
      "416                           Ware, Mr. Frederick    male   NaN      0      0   \n",
      "417                      Peter, Master. Michael J    male   NaN      1      1   \n",
      "\n",
      "                 Ticket      Fare Cabin Embarked  \n",
      "0                330911    7.8292   NaN        Q  \n",
      "1                363272    7.0000   NaN        S  \n",
      "2                240276    9.6875   NaN        Q  \n",
      "3                315154    8.6625   NaN        S  \n",
      "4               3101298   12.2875   NaN        S  \n",
      "..                  ...       ...   ...      ...  \n",
      "413           A.5. 3236    8.0500   NaN        S  \n",
      "414            PC 17758  108.9000  C105        C  \n",
      "415  SOTON/O.Q. 3101262    7.2500   NaN        S  \n",
      "416              359309    8.0500   NaN        S  \n",
      "417                2668   22.3583   NaN        C  \n",
      "\n",
      "[418 rows x 12 columns]\n"
     ]
    }
   ],
   "source": [
    "import pandas as pd\n",
    "dataset=pd.read_csv(\"C:\\\\Users\\\\RAJESWARI\\\\Downloads\\\\tested.csv\")\n",
    "print(dataset)\n"
   ]
  },
  {
   "cell_type": "code",
   "execution_count": 2,
   "id": "2477965f",
   "metadata": {},
   "outputs": [
    {
     "name": "stdout",
     "output_type": "stream",
     "text": [
      "     PassengerId  Survived  Pclass   Name    Sex    Age  SibSp  Parch  Ticket  \\\n",
      "0          False     False   False  False  False  False  False  False   False   \n",
      "1          False     False   False  False  False  False  False  False   False   \n",
      "2          False     False   False  False  False  False  False  False   False   \n",
      "3          False     False   False  False  False  False  False  False   False   \n",
      "4          False     False   False  False  False  False  False  False   False   \n",
      "..           ...       ...     ...    ...    ...    ...    ...    ...     ...   \n",
      "413        False     False   False  False  False   True  False  False   False   \n",
      "414        False     False   False  False  False  False  False  False   False   \n",
      "415        False     False   False  False  False  False  False  False   False   \n",
      "416        False     False   False  False  False   True  False  False   False   \n",
      "417        False     False   False  False  False   True  False  False   False   \n",
      "\n",
      "      Fare  Cabin  Embarked  \n",
      "0    False   True     False  \n",
      "1    False   True     False  \n",
      "2    False   True     False  \n",
      "3    False   True     False  \n",
      "4    False   True     False  \n",
      "..     ...    ...       ...  \n",
      "413  False   True     False  \n",
      "414  False  False     False  \n",
      "415  False   True     False  \n",
      "416  False   True     False  \n",
      "417  False   True     False  \n",
      "\n",
      "[418 rows x 12 columns]\n"
     ]
    }
   ],
   "source": [
    "print(dataset.isnull())\n"
   ]
  },
  {
   "cell_type": "code",
   "execution_count": 3,
   "id": "c861a5e0",
   "metadata": {},
   "outputs": [
    {
     "name": "stdout",
     "output_type": "stream",
     "text": [
      "PassengerId      0\n",
      "Survived         0\n",
      "Pclass           0\n",
      "Name             0\n",
      "Sex              0\n",
      "Age             86\n",
      "SibSp            0\n",
      "Parch            0\n",
      "Ticket           0\n",
      "Fare             1\n",
      "Cabin          327\n",
      "Embarked         0\n",
      "dtype: int64\n"
     ]
    }
   ],
   "source": [
    "print(dataset.isnull().sum())\n"
   ]
  },
  {
   "cell_type": "code",
   "execution_count": 4,
   "id": "988f8876",
   "metadata": {},
   "outputs": [
    {
     "name": "stdout",
     "output_type": "stream",
     "text": [
      "     PassengerId  Survived  Pclass  \\\n",
      "0            892         0       3   \n",
      "1            893         1       3   \n",
      "2            894         0       2   \n",
      "3            895         0       3   \n",
      "4            896         1       3   \n",
      "..           ...       ...     ...   \n",
      "413         1305         0       3   \n",
      "414         1306         1       1   \n",
      "415         1307         0       3   \n",
      "416         1308         0       3   \n",
      "417         1309         0       3   \n",
      "\n",
      "                                             Name     Sex   Age  SibSp  Parch  \\\n",
      "0                                Kelly, Mr. James    male  34.5      0      0   \n",
      "1                Wilkes, Mrs. James (Ellen Needs)  female  47.0      1      0   \n",
      "2                       Myles, Mr. Thomas Francis    male  62.0      0      0   \n",
      "3                                Wirz, Mr. Albert    male  27.0      0      0   \n",
      "4    Hirvonen, Mrs. Alexander (Helga E Lindqvist)  female  22.0      1      1   \n",
      "..                                            ...     ...   ...    ...    ...   \n",
      "413                            Spector, Mr. Woolf    male   0.0      0      0   \n",
      "414                  Oliva y Ocana, Dona. Fermina  female  39.0      0      0   \n",
      "415                  Saether, Mr. Simon Sivertsen    male  38.5      0      0   \n",
      "416                           Ware, Mr. Frederick    male   0.0      0      0   \n",
      "417                      Peter, Master. Michael J    male   0.0      1      1   \n",
      "\n",
      "                 Ticket      Fare Cabin Embarked  \n",
      "0                330911    7.8292     0        Q  \n",
      "1                363272    7.0000     0        S  \n",
      "2                240276    9.6875     0        Q  \n",
      "3                315154    8.6625     0        S  \n",
      "4               3101298   12.2875     0        S  \n",
      "..                  ...       ...   ...      ...  \n",
      "413           A.5. 3236    8.0500     0        S  \n",
      "414            PC 17758  108.9000  C105        C  \n",
      "415  SOTON/O.Q. 3101262    7.2500     0        S  \n",
      "416              359309    8.0500     0        S  \n",
      "417                2668   22.3583     0        C  \n",
      "\n",
      "[418 rows x 12 columns]\n"
     ]
    }
   ],
   "source": [
    "print(dataset.fillna(0))\n"
   ]
  },
  {
   "cell_type": "code",
   "execution_count": 5,
   "id": "293e7670",
   "metadata": {},
   "outputs": [
    {
     "name": "stdout",
     "output_type": "stream",
     "text": [
      "     PassengerId  Survived  Pclass  \\\n",
      "0            892         0       3   \n",
      "1            893         1       3   \n",
      "2            894         0       2   \n",
      "3            895         0       3   \n",
      "4            896         1       3   \n",
      "..           ...       ...     ...   \n",
      "413         1305         0       3   \n",
      "414         1306         1       1   \n",
      "415         1307         0       3   \n",
      "416         1308         0       3   \n",
      "417         1309         0       3   \n",
      "\n",
      "                                             Name     Sex   Age  SibSp  Parch  \\\n",
      "0                                Kelly, Mr. James    male  34.5      0      0   \n",
      "1                Wilkes, Mrs. James (Ellen Needs)  female  47.0      1      0   \n",
      "2                       Myles, Mr. Thomas Francis    male  62.0      0      0   \n",
      "3                                Wirz, Mr. Albert    male  27.0      0      0   \n",
      "4    Hirvonen, Mrs. Alexander (Helga E Lindqvist)  female  22.0      1      1   \n",
      "..                                            ...     ...   ...    ...    ...   \n",
      "413                            Spector, Mr. Woolf    male   1.0      0      0   \n",
      "414                  Oliva y Ocana, Dona. Fermina  female  39.0      0      0   \n",
      "415                  Saether, Mr. Simon Sivertsen    male  38.5      0      0   \n",
      "416                           Ware, Mr. Frederick    male   1.0      0      0   \n",
      "417                      Peter, Master. Michael J    male   1.0      1      1   \n",
      "\n",
      "                 Ticket      Fare Cabin Embarked  \n",
      "0                330911    7.8292     1        Q  \n",
      "1                363272    7.0000     1        S  \n",
      "2                240276    9.6875     1        Q  \n",
      "3                315154    8.6625     1        S  \n",
      "4               3101298   12.2875     1        S  \n",
      "..                  ...       ...   ...      ...  \n",
      "413           A.5. 3236    8.0500     1        S  \n",
      "414            PC 17758  108.9000  C105        C  \n",
      "415  SOTON/O.Q. 3101262    7.2500     1        S  \n",
      "416              359309    8.0500     1        S  \n",
      "417                2668   22.3583     1        C  \n",
      "\n",
      "[418 rows x 12 columns]\n"
     ]
    }
   ],
   "source": [
    "print(dataset.fillna(1))\n"
   ]
  },
  {
   "cell_type": "code",
   "execution_count": 6,
   "id": "e7401b01",
   "metadata": {},
   "outputs": [
    {
     "name": "stdout",
     "output_type": "stream",
     "text": [
      "     PassengerId  Survived  Pclass  \\\n",
      "12           904         1       1   \n",
      "14           906         1       1   \n",
      "24           916         1       1   \n",
      "26           918         1       1   \n",
      "28           920         0       1   \n",
      "..           ...       ...     ...   \n",
      "404         1296         0       1   \n",
      "405         1297         0       2   \n",
      "407         1299         0       1   \n",
      "411         1303         1       1   \n",
      "414         1306         1       1   \n",
      "\n",
      "                                                  Name     Sex   Age  SibSp  \\\n",
      "12       Snyder, Mrs. John Pillsbury (Nelle Stevenson)  female  23.0      1   \n",
      "14   Chaffee, Mrs. Herbert Fuller (Carrie Constance...  female  47.0      1   \n",
      "24     Ryerson, Mrs. Arthur Larned (Emily Maria Borie)  female  48.0      1   \n",
      "26                        Ostby, Miss. Helene Ragnhild  female  22.0      0   \n",
      "28                             Brady, Mr. John Bertram    male  41.0      0   \n",
      "..                                                 ...     ...   ...    ...   \n",
      "404                       Frauenthal, Mr. Isaac Gerald    male  43.0      1   \n",
      "405       Nourney, Mr. Alfred (Baron von Drachstedt\")\"    male  20.0      0   \n",
      "407                         Widener, Mr. George Dunton    male  50.0      1   \n",
      "411    Minahan, Mrs. William Edward (Lillian E Thorpe)  female  37.0      1   \n",
      "414                       Oliva y Ocana, Dona. Fermina  female  39.0      0   \n",
      "\n",
      "     Parch         Ticket      Fare            Cabin Embarked  \n",
      "12       0          21228   82.2667              B45        S  \n",
      "14       0    W.E.P. 5734   61.1750              E31        S  \n",
      "24       3       PC 17608  262.3750  B57 B59 B63 B66        C  \n",
      "26       1         113509   61.9792              B36        C  \n",
      "28       0         113054   30.5000              A21        S  \n",
      "..     ...            ...       ...              ...      ...  \n",
      "404      0          17765   27.7208              D40        C  \n",
      "405      0  SC/PARIS 2166   13.8625              D38        C  \n",
      "407      1         113503  211.5000              C80        C  \n",
      "411      0          19928   90.0000              C78        Q  \n",
      "414      0       PC 17758  108.9000             C105        C  \n",
      "\n",
      "[87 rows x 12 columns]\n"
     ]
    }
   ],
   "source": [
    "print(dataset.dropna())\n"
   ]
  }
 ],
 "metadata": {
  "kernelspec": {
   "display_name": "Python 3 (ipykernel)",
   "language": "python",
   "name": "python3"
  },
  "language_info": {
   "codemirror_mode": {
    "name": "ipython",
    "version": 3
   },
   "file_extension": ".py",
   "mimetype": "text/x-python",
   "name": "python",
   "nbconvert_exporter": "python",
   "pygments_lexer": "ipython3",
   "version": "3.9.13"
  }
 },
 "nbformat": 4,
 "nbformat_minor": 5
}
